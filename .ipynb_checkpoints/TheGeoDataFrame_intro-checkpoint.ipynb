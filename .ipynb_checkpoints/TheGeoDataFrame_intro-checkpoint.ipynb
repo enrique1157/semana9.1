{
 "cells": [
  {
   "cell_type": "markdown",
   "metadata": {},
   "source": [
    "<center><img src=\"https://i.imgur.com/zRrFdsf.png\" width=\"700\"></center>"
   ]
  },
  {
   "cell_type": "markdown",
   "metadata": {},
   "source": [
    "# The Geo Dataframe\n",
    "\n",
    "The geodata frame is an extended data frame where every row represents spatial elements (points, lines, polygons).\n",
    "\n",
    "Let's practice following these steps:\n",
    "\n",
    "1. Create a repository named: introgeodf.\n",
    "2. Clone that repo to a local folder in your computer.\n",
    "3. In that local folder in your computer, create a folder named **maps**.\n",
    "4. Go to this [website](https://www.efrainmaps.es/english-version/free-downloads/world/).\n",
    "5. Download three map files into the folder **maps** in your computer: countries, cities, and rivers."
   ]
  },
  {
   "cell_type": "markdown",
   "metadata": {},
   "source": [
    "You may see something like this:\n",
    "\n",
    "<img title=\"a title\" alt=\"Alt text\" src=\"https://github.com/CienciaDeDatosEspacial/introgeodf/blob/main/pics_for_notebook/mapsFolderImage.png?raw=true\">\n",
    "\n"
   ]
  },
  {
   "cell_type": "markdown",
   "metadata": {},
   "source": [
    "You can decompress those files:\n",
    "\n",
    "<img title=\"a title\" alt=\"Alt text\" src=\"https://github.com/CienciaDeDatosEspacial/introgeodf/blob/main/pics_for_notebook/folderRar_1.png?raw=true\">\n"
   ]
  },
  {
   "cell_type": "markdown",
   "metadata": {},
   "source": [
    "Now, take a look a **World_Countries**, which is a **shapefile**, the most common file type that stores spatial elements: \n",
    "\n",
    "\n",
    "<img title=\"a title\" alt=\"Alt text\" src=\"https://github.com/CienciaDeDatosEspacial/introgeodf/blob/main/pics_for_notebook/imageCountries_shp.png?raw=true\">\n"
   ]
  },
  {
   "cell_type": "code",
   "execution_count": 1,
   "metadata": {},
   "outputs": [
    {
     "name": "stdout",
     "output_type": "stream",
     "text": [
      "Collecting geopandas\n",
      "  Obtaining dependency information for geopandas from https://files.pythonhosted.org/packages/27/27/2687abaa2ac02b5814e2929a5033da1e5d132c19a904dc56f77f63fd6eb9/geopandas-0.14.0-py3-none-any.whl.metadata\n",
      "  Downloading geopandas-0.14.0-py3-none-any.whl.metadata (1.5 kB)\n",
      "Collecting fiona>=1.8.21 (from geopandas)\n",
      "  Obtaining dependency information for fiona>=1.8.21 from https://files.pythonhosted.org/packages/7f/27/b24c1610c7ae5716709321f04d38d7b8b71ed531f80df4f697b9ad99cfc3/fiona-1.9.5-cp311-cp311-win_amd64.whl.metadata\n",
      "  Downloading fiona-1.9.5-cp311-cp311-win_amd64.whl.metadata (51 kB)\n",
      "     ---------------------------------------- 0.0/51.1 kB ? eta -:--:--\n",
      "     -------- ------------------------------- 10.2/51.1 kB ? eta -:--:--\n",
      "     ------------------------------ ------- 41.0/51.1 kB 487.6 kB/s eta 0:00:01\n",
      "     ------------------------------ ------- 41.0/51.1 kB 487.6 kB/s eta 0:00:01\n",
      "     ------------------------------ ------- 41.0/51.1 kB 487.6 kB/s eta 0:00:01\n",
      "     ------------------------------ ------- 41.0/51.1 kB 487.6 kB/s eta 0:00:01\n",
      "     -------------------------------------- 51.1/51.1 kB 163.5 kB/s eta 0:00:00\n",
      "Requirement already satisfied: packaging in c:\\users\\enrique\\anaconda3\\envs\\sds_20232_enrique\\lib\\site-packages (from geopandas) (23.0)\n",
      "Requirement already satisfied: pandas>=1.4.0 in c:\\users\\enrique\\anaconda3\\envs\\sds_20232_enrique\\lib\\site-packages (from geopandas) (2.0.3)\n",
      "Collecting pyproj>=3.3.0 (from geopandas)\n",
      "  Obtaining dependency information for pyproj>=3.3.0 from https://files.pythonhosted.org/packages/79/95/eb68113c5b5737c342bde1bab92705dabe69c16299c5a122616e50f1fbd6/pyproj-3.6.1-cp311-cp311-win_amd64.whl.metadata\n",
      "  Downloading pyproj-3.6.1-cp311-cp311-win_amd64.whl.metadata (31 kB)\n",
      "Collecting shapely>=1.8.0 (from geopandas)\n",
      "  Obtaining dependency information for shapely>=1.8.0 from https://files.pythonhosted.org/packages/9e/39/029c441d8af32ab423b229c4525ce5ce6707318155b59634811a4c56f5c4/shapely-2.0.2-cp311-cp311-win_amd64.whl.metadata\n",
      "  Downloading shapely-2.0.2-cp311-cp311-win_amd64.whl.metadata (7.2 kB)\n",
      "Requirement already satisfied: attrs>=19.2.0 in c:\\users\\enrique\\anaconda3\\envs\\sds_20232_enrique\\lib\\site-packages (from fiona>=1.8.21->geopandas) (22.1.0)\n",
      "Requirement already satisfied: certifi in c:\\users\\enrique\\anaconda3\\envs\\sds_20232_enrique\\lib\\site-packages (from fiona>=1.8.21->geopandas) (2023.7.22)\n",
      "Collecting click~=8.0 (from fiona>=1.8.21->geopandas)\n",
      "  Obtaining dependency information for click~=8.0 from https://files.pythonhosted.org/packages/00/2e/d53fa4befbf2cfa713304affc7ca780ce4fc1fd8710527771b58311a3229/click-8.1.7-py3-none-any.whl.metadata\n",
      "  Downloading click-8.1.7-py3-none-any.whl.metadata (3.0 kB)\n",
      "Collecting click-plugins>=1.0 (from fiona>=1.8.21->geopandas)\n",
      "  Downloading click_plugins-1.1.1-py2.py3-none-any.whl (7.5 kB)\n",
      "Collecting cligj>=0.5 (from fiona>=1.8.21->geopandas)\n",
      "  Downloading cligj-0.7.2-py3-none-any.whl (7.1 kB)\n",
      "Requirement already satisfied: six in c:\\users\\enrique\\anaconda3\\envs\\sds_20232_enrique\\lib\\site-packages (from fiona>=1.8.21->geopandas) (1.16.0)\n",
      "Requirement already satisfied: setuptools in c:\\users\\enrique\\anaconda3\\envs\\sds_20232_enrique\\lib\\site-packages (from fiona>=1.8.21->geopandas) (68.0.0)\n",
      "Requirement already satisfied: python-dateutil>=2.8.2 in c:\\users\\enrique\\anaconda3\\envs\\sds_20232_enrique\\lib\\site-packages (from pandas>=1.4.0->geopandas) (2.8.2)\n",
      "Requirement already satisfied: pytz>=2020.1 in c:\\users\\enrique\\anaconda3\\envs\\sds_20232_enrique\\lib\\site-packages (from pandas>=1.4.0->geopandas) (2022.7)\n",
      "Requirement already satisfied: tzdata>=2022.1 in c:\\users\\enrique\\anaconda3\\envs\\sds_20232_enrique\\lib\\site-packages (from pandas>=1.4.0->geopandas) (2023.3)\n",
      "Requirement already satisfied: numpy>=1.21.0 in c:\\users\\enrique\\anaconda3\\envs\\sds_20232_enrique\\lib\\site-packages (from pandas>=1.4.0->geopandas) (1.25.2)\n",
      "Requirement already satisfied: colorama in c:\\users\\enrique\\anaconda3\\envs\\sds_20232_enrique\\lib\\site-packages (from click~=8.0->fiona>=1.8.21->geopandas) (0.4.6)\n",
      "Downloading geopandas-0.14.0-py3-none-any.whl (1.1 MB)\n",
      "   ---------------------------------------- 0.0/1.1 MB ? eta -:--:--\n",
      "   -------- ------------------------------- 0.2/1.1 MB 4.7 MB/s eta 0:00:01\n",
      "   ---------------- ----------------------- 0.5/1.1 MB 4.8 MB/s eta 0:00:01\n",
      "   ------------------------- -------------- 0.7/1.1 MB 5.0 MB/s eta 0:00:01\n",
      "   ----------------------------------- ---- 1.0/1.1 MB 5.2 MB/s eta 0:00:01\n",
      "   ---------------------------------------  1.1/1.1 MB 5.3 MB/s eta 0:00:01\n",
      "   ---------------------------------------  1.1/1.1 MB 5.3 MB/s eta 0:00:01\n",
      "   ---------------------------------------- 1.1/1.1 MB 3.7 MB/s eta 0:00:00\n",
      "Downloading fiona-1.9.5-cp311-cp311-win_amd64.whl (22.9 MB)\n",
      "   ---------------------------------------- 0.0/22.9 MB ? eta -:--:--\n",
      "   ---------------------------------------- 0.2/22.9 MB 5.3 MB/s eta 0:00:05\n",
      "    --------------------------------------- 0.5/22.9 MB 5.0 MB/s eta 0:00:05\n",
      "   - -------------------------------------- 0.8/22.9 MB 5.3 MB/s eta 0:00:05\n",
      "   - -------------------------------------- 1.0/22.9 MB 5.8 MB/s eta 0:00:04\n",
      "   -- ------------------------------------- 1.2/22.9 MB 5.4 MB/s eta 0:00:05\n",
      "   -- ------------------------------------- 1.4/22.9 MB 5.1 MB/s eta 0:00:05\n",
      "   -- ------------------------------------- 1.6/22.9 MB 5.1 MB/s eta 0:00:05\n",
      "   --- ------------------------------------ 1.8/22.9 MB 5.1 MB/s eta 0:00:05\n",
      "   --- ------------------------------------ 2.1/22.9 MB 5.2 MB/s eta 0:00:04\n",
      "   ---- ----------------------------------- 2.4/22.9 MB 5.3 MB/s eta 0:00:04\n",
      "   ---- ----------------------------------- 2.7/22.9 MB 5.3 MB/s eta 0:00:04\n",
      "   ----- ---------------------------------- 3.0/22.9 MB 5.3 MB/s eta 0:00:04\n",
      "   ----- ---------------------------------- 3.3/22.9 MB 5.4 MB/s eta 0:00:04\n",
      "   ------ --------------------------------- 3.5/22.9 MB 5.4 MB/s eta 0:00:04\n",
      "   ------ --------------------------------- 3.7/22.9 MB 5.3 MB/s eta 0:00:04\n",
      "   ------ --------------------------------- 3.8/22.9 MB 5.3 MB/s eta 0:00:04\n",
      "   ------ --------------------------------- 3.8/22.9 MB 5.3 MB/s eta 0:00:04\n",
      "   ------- -------------------------------- 4.4/22.9 MB 5.1 MB/s eta 0:00:04\n",
      "   -------- ------------------------------- 4.6/22.9 MB 5.2 MB/s eta 0:00:04\n",
      "   -------- ------------------------------- 4.9/22.9 MB 5.2 MB/s eta 0:00:04\n",
      "   -------- ------------------------------- 5.1/22.9 MB 5.3 MB/s eta 0:00:04\n",
      "   --------- ------------------------------ 5.4/22.9 MB 5.2 MB/s eta 0:00:04\n",
      "   --------- ------------------------------ 5.7/22.9 MB 5.3 MB/s eta 0:00:04\n",
      "   ---------- ----------------------------- 5.9/22.9 MB 5.3 MB/s eta 0:00:04\n",
      "   ---------- ----------------------------- 6.2/22.9 MB 5.4 MB/s eta 0:00:04\n",
      "   ----------- ---------------------------- 6.5/22.9 MB 5.4 MB/s eta 0:00:04\n",
      "   ----------- ---------------------------- 6.8/22.9 MB 5.5 MB/s eta 0:00:03\n",
      "   ------------ --------------------------- 7.1/22.9 MB 5.5 MB/s eta 0:00:03\n",
      "   ------------ --------------------------- 7.4/22.9 MB 5.5 MB/s eta 0:00:03\n",
      "   ------------- -------------------------- 7.6/22.9 MB 5.5 MB/s eta 0:00:03\n",
      "   ------------- -------------------------- 7.9/22.9 MB 5.5 MB/s eta 0:00:03\n",
      "   -------------- ------------------------- 8.1/22.9 MB 5.4 MB/s eta 0:00:03\n",
      "   -------------- ------------------------- 8.4/22.9 MB 5.5 MB/s eta 0:00:03\n",
      "   -------------- ------------------------- 8.6/22.9 MB 5.4 MB/s eta 0:00:03\n",
      "   --------------- ------------------------ 8.8/22.9 MB 5.4 MB/s eta 0:00:03\n",
      "   --------------- ------------------------ 9.0/22.9 MB 5.4 MB/s eta 0:00:03\n",
      "   ---------------- ----------------------- 9.2/22.9 MB 5.3 MB/s eta 0:00:03\n",
      "   ---------------- ----------------------- 9.4/22.9 MB 5.3 MB/s eta 0:00:03\n",
      "   ---------------- ----------------------- 9.7/22.9 MB 5.3 MB/s eta 0:00:03\n",
      "   ----------------- ---------------------- 9.9/22.9 MB 5.3 MB/s eta 0:00:03\n",
      "   ----------------- ---------------------- 10.1/22.9 MB 5.3 MB/s eta 0:00:03\n",
      "   ------------------ --------------------- 10.4/22.9 MB 5.4 MB/s eta 0:00:03\n",
      "   ------------------ --------------------- 10.5/22.9 MB 5.3 MB/s eta 0:00:03\n",
      "   ------------------- -------------------- 11.0/22.9 MB 5.4 MB/s eta 0:00:03\n",
      "   ------------------- -------------------- 11.3/22.9 MB 5.4 MB/s eta 0:00:03\n",
      "   -------------------- ------------------- 11.6/22.9 MB 5.5 MB/s eta 0:00:03\n",
      "   -------------------- ------------------- 11.8/22.9 MB 5.5 MB/s eta 0:00:03\n",
      "   --------------------- ------------------ 12.1/22.9 MB 5.5 MB/s eta 0:00:02\n",
      "   --------------------- ------------------ 12.4/22.9 MB 5.5 MB/s eta 0:00:02\n",
      "   ---------------------- ----------------- 12.7/22.9 MB 5.5 MB/s eta 0:00:02\n",
      "   ---------------------- ----------------- 13.0/22.9 MB 5.5 MB/s eta 0:00:02\n",
      "   ----------------------- ---------------- 13.3/22.9 MB 5.5 MB/s eta 0:00:02\n",
      "   ----------------------- ---------------- 13.7/22.9 MB 5.6 MB/s eta 0:00:02\n",
      "   ------------------------ --------------- 13.9/22.9 MB 5.6 MB/s eta 0:00:02\n",
      "   ------------------------ --------------- 14.2/22.9 MB 5.8 MB/s eta 0:00:02\n",
      "   ------------------------- -------------- 14.4/22.9 MB 5.7 MB/s eta 0:00:02\n",
      "   ------------------------- -------------- 14.7/22.9 MB 5.7 MB/s eta 0:00:02\n",
      "   -------------------------- ------------- 15.0/22.9 MB 5.7 MB/s eta 0:00:02\n",
      "   -------------------------- ------------- 15.1/22.9 MB 5.6 MB/s eta 0:00:02\n",
      "   -------------------------- ------------- 15.3/22.9 MB 5.5 MB/s eta 0:00:02\n",
      "   -------------------------- ------------- 15.4/22.9 MB 5.5 MB/s eta 0:00:02\n",
      "   --------------------------- ------------ 15.5/22.9 MB 5.5 MB/s eta 0:00:02\n",
      "   --------------------------- ------------ 15.7/22.9 MB 5.4 MB/s eta 0:00:02\n",
      "   --------------------------- ------------ 15.9/22.9 MB 5.3 MB/s eta 0:00:02\n",
      "   --------------------------- ------------ 16.0/22.9 MB 5.3 MB/s eta 0:00:02\n",
      "   ---------------------------- ----------- 16.1/22.9 MB 5.2 MB/s eta 0:00:02\n",
      "   ---------------------------- ----------- 16.3/22.9 MB 5.2 MB/s eta 0:00:02\n",
      "   ---------------------------- ----------- 16.4/22.9 MB 5.1 MB/s eta 0:00:02\n",
      "   ---------------------------- ----------- 16.5/22.9 MB 5.0 MB/s eta 0:00:02\n",
      "   ----------------------------- ---------- 16.6/22.9 MB 5.0 MB/s eta 0:00:02\n",
      "   ----------------------------- ---------- 16.8/22.9 MB 4.9 MB/s eta 0:00:02\n",
      "   ----------------------------- ---------- 17.1/22.9 MB 4.9 MB/s eta 0:00:02\n",
      "   ------------------------------ --------- 17.4/22.9 MB 4.9 MB/s eta 0:00:02\n",
      "   ------------------------------ --------- 17.7/22.9 MB 4.9 MB/s eta 0:00:02\n",
      "   ------------------------------- -------- 18.0/22.9 MB 5.0 MB/s eta 0:00:01\n",
      "   ------------------------------- -------- 18.3/22.9 MB 5.0 MB/s eta 0:00:01\n",
      "   -------------------------------- ------- 18.5/22.9 MB 5.0 MB/s eta 0:00:01\n",
      "   -------------------------------- ------- 18.8/22.9 MB 5.0 MB/s eta 0:00:01\n",
      "   --------------------------------- ------ 19.1/22.9 MB 5.0 MB/s eta 0:00:01\n",
      "   --------------------------------- ------ 19.4/22.9 MB 5.1 MB/s eta 0:00:01\n",
      "   ---------------------------------- ----- 19.6/22.9 MB 5.1 MB/s eta 0:00:01\n",
      "   ---------------------------------- ----- 19.9/22.9 MB 5.2 MB/s eta 0:00:01\n",
      "   ----------------------------------- ---- 20.2/22.9 MB 5.1 MB/s eta 0:00:01\n",
      "   ----------------------------------- ---- 20.2/22.9 MB 5.1 MB/s eta 0:00:01\n",
      "   ----------------------------------- ---- 20.2/22.9 MB 4.9 MB/s eta 0:00:01\n",
      "   ----------------------------------- ---- 20.4/22.9 MB 4.9 MB/s eta 0:00:01\n",
      "   ------------------------------------ --- 20.7/22.9 MB 4.9 MB/s eta 0:00:01\n",
      "   ------------------------------------ --- 21.0/22.9 MB 4.9 MB/s eta 0:00:01\n",
      "   ------------------------------------- -- 21.2/22.9 MB 4.8 MB/s eta 0:00:01\n",
      "   ------------------------------------- -- 21.3/22.9 MB 4.8 MB/s eta 0:00:01\n",
      "   ------------------------------------- -- 21.7/22.9 MB 4.9 MB/s eta 0:00:01\n",
      "   -------------------------------------- - 22.0/22.9 MB 4.8 MB/s eta 0:00:01\n",
      "   -------------------------------------- - 22.3/22.9 MB 4.8 MB/s eta 0:00:01\n",
      "   ---------------------------------------  22.5/22.9 MB 4.8 MB/s eta 0:00:01\n",
      "   ---------------------------------------  22.8/22.9 MB 4.7 MB/s eta 0:00:01\n",
      "   ---------------------------------------  22.9/22.9 MB 4.8 MB/s eta 0:00:01\n",
      "   ---------------------------------------  22.9/22.9 MB 4.8 MB/s eta 0:00:01\n",
      "   ---------------------------------------  22.9/22.9 MB 4.8 MB/s eta 0:00:01\n",
      "   ---------------------------------------  22.9/22.9 MB 4.8 MB/s eta 0:00:01\n",
      "   ---------------------------------------  22.9/22.9 MB 4.8 MB/s eta 0:00:01\n",
      "   ---------------------------------------  22.9/22.9 MB 4.8 MB/s eta 0:00:01\n",
      "   ---------------------------------------  22.9/22.9 MB 4.8 MB/s eta 0:00:01\n",
      "   ---------------------------------------- 22.9/22.9 MB 4.1 MB/s eta 0:00:00\n",
      "Downloading pyproj-3.6.1-cp311-cp311-win_amd64.whl (6.1 MB)\n",
      "   ---------------------------------------- 0.0/6.1 MB ? eta -:--:--\n",
      "   - -------------------------------------- 0.2/6.1 MB 5.9 MB/s eta 0:00:01\n",
      "   --- ------------------------------------ 0.5/6.1 MB 6.3 MB/s eta 0:00:01\n",
      "   ----- ---------------------------------- 0.8/6.1 MB 6.5 MB/s eta 0:00:01\n",
      "   ------- -------------------------------- 1.1/6.1 MB 6.5 MB/s eta 0:00:01\n",
      "   -------- ------------------------------- 1.3/6.1 MB 5.8 MB/s eta 0:00:01\n",
      "   --------- ------------------------------ 1.5/6.1 MB 5.5 MB/s eta 0:00:01\n",
      "   ----------- ---------------------------- 1.7/6.1 MB 5.4 MB/s eta 0:00:01\n",
      "   ------------ --------------------------- 2.0/6.1 MB 5.4 MB/s eta 0:00:01\n",
      "   --------------- ------------------------ 2.3/6.1 MB 5.6 MB/s eta 0:00:01\n",
      "   ----------------- ---------------------- 2.6/6.1 MB 5.7 MB/s eta 0:00:01\n",
      "   ------------------- -------------------- 2.9/6.1 MB 5.9 MB/s eta 0:00:01\n",
      "   --------------------- ------------------ 3.2/6.1 MB 5.8 MB/s eta 0:00:01\n",
      "   ----------------------- ---------------- 3.5/6.1 MB 5.9 MB/s eta 0:00:01\n",
      "   ------------------------ --------------- 3.8/6.1 MB 5.9 MB/s eta 0:00:01\n",
      "   -------------------------- ------------- 4.1/6.1 MB 5.9 MB/s eta 0:00:01\n",
      "   --------------------------- ------------ 4.2/6.1 MB 6.0 MB/s eta 0:00:01\n",
      "   ----------------------------- ---------- 4.5/6.1 MB 5.7 MB/s eta 0:00:01\n",
      "   -------------------------------- ------- 5.0/6.1 MB 6.0 MB/s eta 0:00:01\n",
      "   ---------------------------------- ----- 5.3/6.1 MB 6.0 MB/s eta 0:00:01\n",
      "   ----------------------------------- ---- 5.5/6.1 MB 5.9 MB/s eta 0:00:01\n",
      "   ------------------------------------- -- 5.7/6.1 MB 5.8 MB/s eta 0:00:01\n",
      "   -------------------------------------- - 5.9/6.1 MB 5.8 MB/s eta 0:00:01\n",
      "   ---------------------------------------  6.1/6.1 MB 5.7 MB/s eta 0:00:01\n",
      "   ---------------------------------------  6.1/6.1 MB 5.6 MB/s eta 0:00:01\n",
      "   ---------------------------------------  6.1/6.1 MB 5.6 MB/s eta 0:00:01\n",
      "   ---------------------------------------  6.1/6.1 MB 5.6 MB/s eta 0:00:01\n",
      "   ---------------------------------------- 6.1/6.1 MB 4.9 MB/s eta 0:00:00\n",
      "Downloading shapely-2.0.2-cp311-cp311-win_amd64.whl (1.4 MB)\n",
      "   ---------------------------------------- 0.0/1.4 MB ? eta -:--:--\n",
      "   --------- ------------------------------ 0.3/1.4 MB 6.8 MB/s eta 0:00:01\n",
      "   --------------- ------------------------ 0.6/1.4 MB 6.0 MB/s eta 0:00:01\n",
      "   ------------------------- -------------- 0.9/1.4 MB 6.3 MB/s eta 0:00:01\n",
      "   --------------------------------- ------ 1.2/1.4 MB 6.4 MB/s eta 0:00:01\n",
      "   ---------------------------------------  1.4/1.4 MB 6.4 MB/s eta 0:00:01\n",
      "   ---------------------------------------  1.4/1.4 MB 6.1 MB/s eta 0:00:01\n",
      "   ---------------------------------------- 1.4/1.4 MB 4.8 MB/s eta 0:00:00\n",
      "Downloading click-8.1.7-py3-none-any.whl (97 kB)\n",
      "   ---------------------------------------- 0.0/97.9 kB ? eta -:--:--\n",
      "   ------------------------------------- -- 92.2/97.9 kB 5.5 MB/s eta 0:00:01\n",
      "   ---------------------------------------- 97.9/97.9 kB 1.9 MB/s eta 0:00:00\n",
      "Installing collected packages: shapely, pyproj, click, cligj, click-plugins, fiona, geopandas\n",
      "Successfully installed click-8.1.7 click-plugins-1.1.1 cligj-0.7.2 fiona-1.9.5 geopandas-0.14.0 pyproj-3.6.1 shapely-2.0.2\n"
     ]
    }
   ],
   "source": [
    "!pip install geopandas"
   ]
  },
  {
   "cell_type": "markdown",
   "metadata": {},
   "source": [
    "There, you see that this **one map** requires **several files**. That is the nature of the shapefile. \n",
    "\n",
    "Let's read the file with the help of **geopandas**:"
   ]
  },
  {
   "cell_type": "code",
   "execution_count": 6,
   "metadata": {},
   "outputs": [],
   "source": [
    "import os, geopandas as gpd\n",
    "#https://github.com/enrique1157/semana9.1/raw/main/World_Countries/World_Countries.shp\n",
    "countries=gpd.read_file(os.path.join(\"maps\",\"World_Countries\",\"World_Countries.shp\"))"
   ]
  },
  {
   "cell_type": "code",
   "execution_count": null,
   "metadata": {},
   "outputs": [],
   "source": []
  },
  {
   "cell_type": "markdown",
   "metadata": {},
   "source": [
    "Let's use some familiar code:"
   ]
  },
  {
   "cell_type": "code",
   "execution_count": 7,
   "metadata": {},
   "outputs": [
    {
     "data": {
      "text/plain": [
       "geopandas.geodataframe.GeoDataFrame"
      ]
     },
     "execution_count": 7,
     "metadata": {},
     "output_type": "execute_result"
    }
   ],
   "source": [
    "# what is it?\n",
    "type(countries)"
   ]
  },
  {
   "cell_type": "markdown",
   "metadata": {},
   "source": [
    "countries is a GeoDF, opened using GEOpandas, so most common Pandas functions will work:"
   ]
  },
  {
   "cell_type": "code",
   "execution_count": 8,
   "metadata": {},
   "outputs": [
    {
     "data": {
      "text/plain": [
       "(252, 2)"
      ]
     },
     "execution_count": 8,
     "metadata": {},
     "output_type": "execute_result"
    }
   ],
   "source": [
    "# dimensions\n",
    "countries.shape"
   ]
  },
  {
   "cell_type": "code",
   "execution_count": 9,
   "metadata": {},
   "outputs": [
    {
     "data": {
      "text/plain": [
       "Index(['COUNTRY', 'geometry'], dtype='object')"
      ]
     },
     "execution_count": 9,
     "metadata": {},
     "output_type": "execute_result"
    }
   ],
   "source": [
    "# names\n",
    "countries.columns"
   ]
  },
  {
   "cell_type": "code",
   "execution_count": 10,
   "metadata": {},
   "outputs": [
    {
     "data": {
      "text/html": [
       "<div>\n",
       "<style scoped>\n",
       "    .dataframe tbody tr th:only-of-type {\n",
       "        vertical-align: middle;\n",
       "    }\n",
       "\n",
       "    .dataframe tbody tr th {\n",
       "        vertical-align: top;\n",
       "    }\n",
       "\n",
       "    .dataframe thead th {\n",
       "        text-align: right;\n",
       "    }\n",
       "</style>\n",
       "<table border=\"1\" class=\"dataframe\">\n",
       "  <thead>\n",
       "    <tr style=\"text-align: right;\">\n",
       "      <th></th>\n",
       "      <th>COUNTRY</th>\n",
       "      <th>geometry</th>\n",
       "    </tr>\n",
       "  </thead>\n",
       "  <tbody>\n",
       "    <tr>\n",
       "      <th>0</th>\n",
       "      <td>Aruba (Netherlands)</td>\n",
       "      <td>POLYGON ((-69.88223 12.41111, -69.94695 12.436...</td>\n",
       "    </tr>\n",
       "    <tr>\n",
       "      <th>1</th>\n",
       "      <td>Antigua and Barbuda</td>\n",
       "      <td>MULTIPOLYGON (((-61.73889 17.54055, -61.75195 ...</td>\n",
       "    </tr>\n",
       "    <tr>\n",
       "      <th>2</th>\n",
       "      <td>Afghanistan</td>\n",
       "      <td>POLYGON ((61.27656 35.60725, 61.29638 35.62853...</td>\n",
       "    </tr>\n",
       "    <tr>\n",
       "      <th>3</th>\n",
       "      <td>Algeria</td>\n",
       "      <td>POLYGON ((-5.15213 30.18047, -5.13917 30.19236...</td>\n",
       "    </tr>\n",
       "    <tr>\n",
       "      <th>4</th>\n",
       "      <td>Azerbaijan</td>\n",
       "      <td>MULTIPOLYGON (((46.54037 38.87559, 46.49554 38...</td>\n",
       "    </tr>\n",
       "  </tbody>\n",
       "</table>\n",
       "</div>"
      ],
      "text/plain": [
       "               COUNTRY                                           geometry\n",
       "0  Aruba (Netherlands)  POLYGON ((-69.88223 12.41111, -69.94695 12.436...\n",
       "1  Antigua and Barbuda  MULTIPOLYGON (((-61.73889 17.54055, -61.75195 ...\n",
       "2          Afghanistan  POLYGON ((61.27656 35.60725, 61.29638 35.62853...\n",
       "3              Algeria  POLYGON ((-5.15213 30.18047, -5.13917 30.19236...\n",
       "4           Azerbaijan  MULTIPOLYGON (((46.54037 38.87559, 46.49554 38..."
      ]
     },
     "execution_count": 10,
     "metadata": {},
     "output_type": "execute_result"
    }
   ],
   "source": [
    "# some content\n",
    "countries.head()"
   ]
  },
  {
   "cell_type": "code",
   "execution_count": 11,
   "metadata": {},
   "outputs": [
    {
     "data": {
      "text/html": [
       "<div>\n",
       "<style scoped>\n",
       "    .dataframe tbody tr th:only-of-type {\n",
       "        vertical-align: middle;\n",
       "    }\n",
       "\n",
       "    .dataframe tbody tr th {\n",
       "        vertical-align: top;\n",
       "    }\n",
       "\n",
       "    .dataframe thead th {\n",
       "        text-align: right;\n",
       "    }\n",
       "</style>\n",
       "<table border=\"1\" class=\"dataframe\">\n",
       "  <thead>\n",
       "    <tr style=\"text-align: right;\">\n",
       "      <th></th>\n",
       "      <th>COUNTRY</th>\n",
       "      <th>geometry</th>\n",
       "    </tr>\n",
       "  </thead>\n",
       "  <tbody>\n",
       "  </tbody>\n",
       "</table>\n",
       "</div>"
      ],
      "text/plain": [
       "Empty GeoDataFrame\n",
       "Columns: [COUNTRY, geometry]\n",
       "Index: []"
      ]
     },
     "execution_count": 11,
     "metadata": {},
     "output_type": "execute_result"
    }
   ],
   "source": [
    "# any missing values?\n",
    "countries[countries.isna().any(axis=1)]"
   ]
  },
  {
   "cell_type": "code",
   "execution_count": 12,
   "metadata": {
    "scrolled": true
   },
   "outputs": [
    {
     "name": "stdout",
     "output_type": "stream",
     "text": [
      "<class 'geopandas.geodataframe.GeoDataFrame'>\n",
      "RangeIndex: 252 entries, 0 to 251\n",
      "Data columns (total 2 columns):\n",
      " #   Column    Non-Null Count  Dtype   \n",
      "---  ------    --------------  -----   \n",
      " 0   COUNTRY   252 non-null    object  \n",
      " 1   geometry  252 non-null    geometry\n",
      "dtypes: geometry(1), object(1)\n",
      "memory usage: 4.1+ KB\n"
     ]
    }
   ],
   "source": [
    "# types\n",
    "countries.info()"
   ]
  },
  {
   "cell_type": "markdown",
   "metadata": {},
   "source": [
    "## Basic Plotting"
   ]
  },
  {
   "cell_type": "markdown",
   "metadata": {},
   "source": [
    "The presence of the **geometry** column facilitates plotting:"
   ]
  },
  {
   "cell_type": "code",
   "execution_count": 13,
   "metadata": {},
   "outputs": [
    {
     "name": "stderr",
     "output_type": "stream",
     "text": [
      "C:\\Users\\Enrique\\anaconda3\\envs\\SDS_20232_ENRIQUE\\Lib\\site-packages\\geopandas\\plotting.py:48: ShapelyDeprecationWarning: The 'type' attribute is deprecated, and will be removed in the future. You can use the 'geom_type' attribute instead.\n",
      "  if geom is not None and geom.type.startswith(prefix) and not geom.is_empty:\n"
     ]
    },
    {
     "data": {
      "text/plain": [
       "<Axes: >"
      ]
     },
     "execution_count": 13,
     "metadata": {},
     "output_type": "execute_result"
    },
    {
     "data": {
      "image/png": "[encoded data removed]",
      "text/plain": [
       "<Figure size 640x480 with 1 Axes>"
      ]
     },
     "metadata": {},
     "output_type": "display_data"
    }
   ],
   "source": [
    "# plot simple\n",
    "\n",
    "countries.plot()"
   ]
  },
  {
   "cell_type": "markdown",
   "metadata": {},
   "source": [
    "Let's open the other maps:"
   ]
  },
  {
   "cell_type": "code",
   "execution_count": 14,
   "metadata": {},
   "outputs": [],
   "source": [
    "rivers=gpd.read_file(os.path.join(\"maps\",\"World_Hydrography\",\"World_Hydrography.shp\"))\n",
    "cities=gpd.read_file(os.path.join(\"maps\",\"World_Cities\",\"World_Cities.shp\"))"
   ]
  },
  {
   "cell_type": "code",
   "execution_count": 15,
   "metadata": {},
   "outputs": [
    {
     "name": "stderr",
     "output_type": "stream",
     "text": [
      "C:\\Users\\Enrique\\anaconda3\\envs\\SDS_20232_ENRIQUE\\Lib\\site-packages\\geopandas\\plotting.py:48: ShapelyDeprecationWarning: The 'type' attribute is deprecated, and will be removed in the future. You can use the 'geom_type' attribute instead.\n",
      "  if geom is not None and geom.type.startswith(prefix) and not geom.is_empty:\n"
     ]
    },
    {
     "data": {
      "text/plain": [
       "<Axes: >"
      ]
     },
     "execution_count": 15,
     "metadata": {},
     "output_type": "execute_result"
    },
    {
     "data": {
      "image/png": "[encoded data removed]",
      "text/plain": [
       "<Figure size 640x480 with 1 Axes>"
      ]
     },
     "metadata": {},
     "output_type": "display_data"
    }
   ],
   "source": [
    "# visualizing rivers\n",
    "rivers.plot()"
   ]
  },
  {
   "cell_type": "code",
   "execution_count": 16,
   "metadata": {},
   "outputs": [
    {
     "data": {
      "text/plain": [
       "<Axes: >"
      ]
     },
     "execution_count": 16,
     "metadata": {},
     "output_type": "execute_result"
    },
    {
     "data": {
      "image/png": "[encoded data removed]",
      "text/plain": [
       "<Figure size 640x480 with 1 Axes>"
      ]
     },
     "metadata": {},
     "output_type": "display_data"
    }
   ],
   "source": [
    "# visualizing cities\n",
    "cities.plot()"
   ]
  },
  {
   "cell_type": "markdown",
   "metadata": {},
   "source": [
    "### Visual adjustments\n",
    "\n",
    "In general you need to adjust:\n",
    "* color of the polygon/line/point (see [here](https://matplotlib.org/stable/gallery/color/named_colors.html))\n",
    "* thickness of lines,\n",
    "* line style (see [here](https://matplotlib.org/stable/gallery/lines_bars_and_markers/linestyles.html))\n",
    "* size of points, \n",
    "* point style (see [here](https://matplotlib.org/stable/api/markers_api.html))\n",
    "* and the transparency level (you can find a list of colors ) . Let's see:"
   ]
  },
  {
   "cell_type": "code",
   "execution_count": null,
   "metadata": {},
   "outputs": [],
   "source": [
    "countries.plot(facecolor=\"azure\",#color of polygon fill\n",
    "               edgecolor='black', #color of lines\n",
    "               linewidth=0.1) #thickness of lines"
   ]
  },
  {
   "cell_type": "code",
   "execution_count": null,
   "metadata": {},
   "outputs": [],
   "source": [
    "rivers.plot(edgecolor='blue', \n",
    "            linewidth=1,\n",
    "            linestyle='dotted')"
   ]
  },
  {
   "cell_type": "code",
   "execution_count": null,
   "metadata": {},
   "outputs": [],
   "source": [
    "cities.plot(marker='.', # marker type\n",
    "            color='red', \n",
    "            markersize=1,\n",
    "            alpha=0.3) # transparency"
   ]
  },
  {
   "cell_type": "markdown",
   "metadata": {},
   "source": [
    "### Plotting Multiple layers of maps\n",
    "\n",
    "This requires to plot a map **on top** of the other (order matters). \n",
    "\n",
    "It is a simple process, but the first step is verify that all have the same projection (**CRS**):"
   ]
  },
  {
   "cell_type": "code",
   "execution_count": null,
   "metadata": {},
   "outputs": [],
   "source": [
    "countries.crs"
   ]
  },
  {
   "cell_type": "code",
   "execution_count": null,
   "metadata": {},
   "outputs": [],
   "source": [
    "cities.crs"
   ]
  },
  {
   "cell_type": "code",
   "execution_count": null,
   "metadata": {},
   "outputs": [],
   "source": [
    "rivers.crs"
   ]
  },
  {
   "cell_type": "markdown",
   "metadata": {},
   "source": [
    "They all have the same crs, but if they did not, you have to use **to_crs()**:"
   ]
  },
  {
   "cell_type": "code",
   "execution_count": null,
   "metadata": {},
   "outputs": [],
   "source": [
    "# changing crs in cities and rivers to be the same as countries\n",
    "\n",
    "cities=cities.to_crs(countries.crs)\n",
    "rivers=rivers.to_crs(countries.crs)"
   ]
  },
  {
   "cell_type": "markdown",
   "metadata": {},
   "source": [
    "You can start by creating the layer on the back (the base), and add layers on top:"
   ]
  },
  {
   "cell_type": "code",
   "execution_count": null,
   "metadata": {},
   "outputs": [],
   "source": [
    "base = countries.plot(facecolor=\"white\", edgecolor='black', linewidth=0.1,figsize=(12,12))\n",
    "cities.plot(marker='.', color='red', markersize=1,alpha=0.7,\n",
    "            ax=base) # on top of..\n",
    "rivers.plot(edgecolor='blue', linewidth=0.4,\n",
    "            ax=base)# on top of.."
   ]
  },
  {
   "cell_type": "markdown",
   "metadata": {},
   "source": [
    "A nice feature would be to represent the map in an interactive way:"
   ]
  },
  {
   "cell_type": "code",
   "execution_count": null,
   "metadata": {},
   "outputs": [],
   "source": [
    "import folium\n",
    "\n",
    "\n",
    "m = cities.explore(color=\"red\", \n",
    "                   name=\"cities\")#optional\n",
    "\n",
    "m = rivers.explore(m=m, color=\"blue\",\n",
    "                   name=\"rivers\")#optional\n",
    "#folium.LayerControl().add_to(m) #optional\n",
    "m"
   ]
  },
  {
   "cell_type": "markdown",
   "metadata": {},
   "source": [
    "##  Subsetting and Clipping"
   ]
  },
  {
   "cell_type": "markdown",
   "metadata": {},
   "source": [
    "You can subset your map as you did in classic data frames:"
   ]
  },
  {
   "cell_type": "code",
   "execution_count": null,
   "metadata": {},
   "outputs": [],
   "source": [
    "brazil=countries[countries.COUNTRY=='Brazil']"
   ]
  },
  {
   "cell_type": "markdown",
   "metadata": {},
   "source": [
    "Now, you can plot this *sub* map:"
   ]
  },
  {
   "cell_type": "code",
   "execution_count": null,
   "metadata": {},
   "outputs": [],
   "source": [
    "brazil.plot()"
   ]
  },
  {
   "cell_type": "markdown",
   "metadata": {},
   "source": [
    "Now, see the details on  the cities:"
   ]
  },
  {
   "cell_type": "code",
   "execution_count": null,
   "metadata": {},
   "outputs": [],
   "source": [
    "cities.head()"
   ]
  },
  {
   "cell_type": "markdown",
   "metadata": {},
   "source": [
    "You can keep the Brazilian cities following the same previous process:"
   ]
  },
  {
   "cell_type": "code",
   "execution_count": null,
   "metadata": {},
   "outputs": [],
   "source": [
    "cities_brazil=cities[cities.COUNTRY=='Brazil']\n",
    "\n",
    "# and of course\n",
    "cities_brazil.plot()"
   ]
  },
  {
   "cell_type": "markdown",
   "metadata": {},
   "source": [
    "But, see the rivers:"
   ]
  },
  {
   "cell_type": "code",
   "execution_count": null,
   "metadata": {},
   "outputs": [],
   "source": [
    "rivers.head()"
   ]
  },
  {
   "cell_type": "markdown",
   "metadata": {},
   "source": [
    "In the case of rivers, you do not see contry information, as you do in the two previous GeoDFs. But we could use the fact that the rivers are inside Brazil, then we can use **clipping**:"
   ]
  },
  {
   "cell_type": "markdown",
   "metadata": {},
   "source": [
    "Then you can keep the **parts** of the other maps that intersect with the sub-polygon:"
   ]
  },
  {
   "cell_type": "code",
   "execution_count": null,
   "metadata": {},
   "outputs": [],
   "source": [
    "rivers_brazil = gpd.clip(gdf=rivers,\n",
    "                               mask=brazil)\n",
    "\n",
    "# you have:\n",
    "\n",
    "rivers_brazil.plot()"
   ]
  },
  {
   "cell_type": "markdown",
   "metadata": {},
   "source": [
    "Then, you can plot the clipped version:"
   ]
  },
  {
   "cell_type": "code",
   "execution_count": null,
   "metadata": {},
   "outputs": [],
   "source": [
    "base = brazil.plot(facecolor=\"greenyellow\", edgecolor='black', linewidth=0.4,figsize=(5,5))\n",
    "cities_brazil.plot(marker='+', color='red', markersize=15,ax=base)\n",
    "rivers_brazil.plot(edgecolor='blue', linewidth=0.5,ax=base)"
   ]
  },
  {
   "cell_type": "markdown",
   "metadata": {},
   "source": [
    "The interactive alternative for this last case could require to set the **folium** map to a particular coordinate. Let's finde the one for Brazil here: [https://www.geodatos.net/en/coordinates](https://www.geodatos.net/en/coordinates):"
   ]
  },
  {
   "cell_type": "code",
   "execution_count": null,
   "metadata": {},
   "outputs": [],
   "source": [
    "brazilCoord=[-14.235004, -51.92528]"
   ]
  },
  {
   "cell_type": "code",
   "execution_count": null,
   "metadata": {},
   "outputs": [],
   "source": [
    "m = cities_brazil.explore(location=brazilCoord,\n",
    "                   zoom_start=4,\n",
    "                   tiles='CartoDB positron',\n",
    "                   color='red',\n",
    "                   name=\"cities\") #optional\n",
    "m = rivers_brazil.explore(m=m, color=\"blue\",\n",
    "                   name=\"rivers\")#optional\n",
    "# folium.LayerControl().add_to(m) #optional\n",
    "m"
   ]
  },
  {
   "cell_type": "markdown",
   "metadata": {},
   "source": [
    "## (Re) Projecting  \n",
    "\n",
    "As mentioned in class, the CRS is a very important property of the maps. They affect three aspects:\n",
    "\n",
    "* shape\n",
    "* area\n",
    "* scale\n",
    "* direction\n",
    "\n",
    "The most used CRS is 4326, but it is **not projected**:"
   ]
  },
  {
   "cell_type": "code",
   "execution_count": null,
   "metadata": {},
   "outputs": [],
   "source": [
    "# unit is in degrees:\n",
    "brazil.crs.axis_info"
   ]
  },
  {
   "cell_type": "markdown",
   "metadata": {},
   "source": [
    "Some operations will **warn** you on this issue:"
   ]
  },
  {
   "cell_type": "code",
   "execution_count": null,
   "metadata": {},
   "outputs": [],
   "source": [
    "# centroid\n",
    "brazil.centroid"
   ]
  },
  {
   "cell_type": "markdown",
   "metadata": {},
   "source": [
    "A projected CRS will have units in meters or feet (or similar). You can find a crs per country [here](https://epsg.io/?q=brazil+kind%3APROJCRS):"
   ]
  },
  {
   "cell_type": "code",
   "execution_count": null,
   "metadata": {},
   "outputs": [],
   "source": [
    "# recommended for Brazil (meters)\n",
    "brazil.to_crs(5641).crs.axis_info"
   ]
  },
  {
   "cell_type": "code",
   "execution_count": null,
   "metadata": {},
   "outputs": [],
   "source": [
    "# this works with no warning\n",
    "brazil.to_crs(5641).centroid"
   ]
  },
  {
   "cell_type": "code",
   "execution_count": null,
   "metadata": {},
   "outputs": [],
   "source": [
    "# replotting:\n",
    "\n",
    "base5641=brazil.to_crs(5641).plot()\n",
    "brazil.to_crs(5641).centroid.plot(color='red',ax=base5641)"
   ]
  },
  {
   "cell_type": "markdown",
   "metadata": {},
   "source": [
    "Not using the right projection will give you a wrong numerical result when needing numerical accuracy; however, you might find situation where the visual output seems right (yet it is wrong). Then, Let's keep the projected version for all our maps:"
   ]
  },
  {
   "cell_type": "code",
   "execution_count": null,
   "metadata": {},
   "outputs": [],
   "source": [
    "brazil_5641=brazil.to_crs(5641)\n",
    "# just Brazil\n",
    "\n",
    "cities_brazil=cities[cities.COUNTRY=='Brazil']\n",
    "cities_5641=cities_brazil.to_crs(brazil_5641.crs)\n",
    "\n",
    "rivers_5641=rivers.to_crs(brazil_5641.crs)\n",
    "rivers_5641=gpd.clip(gdf=rivers_5641,mask=brazil_5641)"
   ]
  },
  {
   "cell_type": "markdown",
   "metadata": {},
   "source": [
    "The plot again:"
   ]
  },
  {
   "cell_type": "code",
   "execution_count": null,
   "metadata": {},
   "outputs": [],
   "source": [
    "base = brazil_5641.plot(facecolor=\"greenyellow\", edgecolor='black', linewidth=0.4,figsize=(5,5))\n",
    "cities_5641.plot(marker='+', color='red', markersize=15,ax=base)\n",
    "rivers_5641.plot(edgecolor='blue', linewidth=0.5,ax=base)"
   ]
  },
  {
   "cell_type": "markdown",
   "metadata": {},
   "source": [
    "## Exporting maps\n",
    "\n",
    "You may need a couple of things here:\n",
    "\n",
    "- Save the map as an image.\n",
    "- Save the files (not the images).\n",
    "\n",
    "Let's see:"
   ]
  },
  {
   "cell_type": "code",
   "execution_count": null,
   "metadata": {},
   "outputs": [],
   "source": [
    "# save the map as image\n",
    "import matplotlib.pyplot as plt\n",
    "\n",
    "base = brazil_5641.plot(facecolor=\"greenyellow\", edgecolor='black', linewidth=0.4,figsize=(5,5))\n",
    "map2=cities_5641.plot(marker='+', color='red', markersize=15,ax=base)\n",
    "mapEnd=rivers_5641.plot(edgecolor='blue', linewidth=0.5,ax=base)\n",
    "plt.savefig(os.path.join(\"figures\",'mapEnd.jpg'))"
   ]
  },
  {
   "cell_type": "markdown",
   "metadata": {},
   "source": [
    "We have not changed the initial map, but we could export the maps into a different file type (not shapefiles):"
   ]
  },
  {
   "cell_type": "code",
   "execution_count": null,
   "metadata": {},
   "outputs": [],
   "source": [
    "countries.to_file(os.path.join(\"maps\",\"worldMaps.gpkg\"), layer='countries', driver=\"GPKG\")\n",
    "cities.to_file(os.path.join(\"maps\",\"worldMaps.gpkg\"), layer='cities', driver=\"GPKG\")\n",
    "rivers.to_file(os.path.join(\"maps\",\"worldMaps.gpkg\"), layer='rivers', driver=\"GPKG\")"
   ]
  },
  {
   "cell_type": "markdown",
   "metadata": {},
   "source": [
    "The most important thing, now that you have saved these several maps into one file is that, once in GitHub, you can call the map with the url link...\n",
    "\n",
    "\n",
    "<img title=\"a title\" alt=\"Alt text\" src=\"https://github.com/CienciaDeDatosEspacial/introgeodf/blob/main/pics_for_notebook/getLinkGit.png?raw=true\">\n"
   ]
  },
  {
   "cell_type": "markdown",
   "metadata": {},
   "source": [
    "Let me save the link recovered:"
   ]
  },
  {
   "cell_type": "code",
   "execution_count": null,
   "metadata": {},
   "outputs": [],
   "source": [
    "worldMaps='https://github.com/CienciaDeDatosEspacial/code_and_data/raw/main/maps/worldMaps.gpkg'"
   ]
  },
  {
   "cell_type": "markdown",
   "metadata": {},
   "source": [
    "You can ask what layers are present:"
   ]
  },
  {
   "cell_type": "code",
   "execution_count": null,
   "metadata": {},
   "outputs": [],
   "source": [
    "from  fiona import listlayers\n",
    "\n",
    "listlayers(worldMaps)"
   ]
  },
  {
   "cell_type": "markdown",
   "metadata": {},
   "source": [
    "Now you are confident what to request:"
   ]
  },
  {
   "cell_type": "code",
   "execution_count": null,
   "metadata": {},
   "outputs": [],
   "source": [
    "countries=gpd.read_file(worldMaps,layer='countries')\n",
    "cities=gpd.read_file(worldMaps,layer='cities')\n",
    "rivers=gpd.read_file(worldMaps,layer='rivers')"
   ]
  },
  {
   "cell_type": "markdown",
   "metadata": {},
   "source": [
    "As you see, it works great:"
   ]
  },
  {
   "cell_type": "code",
   "execution_count": null,
   "metadata": {},
   "outputs": [],
   "source": [
    "base = countries.plot(facecolor='gainsboro')\n",
    "cities.plot(ax=base, markersize=0.5, color='red') \n",
    "rivers.plot(ax=base, linewidth=0.5)"
   ]
  },
  {
   "cell_type": "markdown",
   "metadata": {},
   "source": [
    "Of course, we can save what we did for Brazil:"
   ]
  },
  {
   "cell_type": "code",
   "execution_count": null,
   "metadata": {},
   "outputs": [],
   "source": [
    "# saving \n",
    "import os\n",
    "\n",
    "brazil_5641.to_file(os.path.join(\"maps\",\"brazil_5641\",\"brazilMaps_5641.gpkg\"), layer='country', driver=\"GPKG\")\n",
    "cities_5641.to_file(os.path.join(\"maps\",\"brazil_5641\",\"brazilMaps_5641.gpkg\"), layer='cities', driver=\"GPKG\")\n",
    "rivers_5641.to_file(os.path.join(\"maps\",\"brazil_5641\",\"brazilMaps_5641.gpkg\"), layer='rivers', driver=\"GPKG\")"
   ]
  },
  {
   "cell_type": "markdown",
   "metadata": {},
   "source": [
    "Exercise:\n",
    "\n",
    "1. Create a repo: **simpleplot**\n",
    "2. Clone that repo to your computer.\n",
    "3. Put the same **rar** files we used at the begining (countries, cities, rivers).\n",
    "4. Keep the maps for one country.\n",
    "5. Find the right CRS for the country, and make sure the other maps share the same one.\n",
    "6. Plot the projected maps like this:\n",
    "   \n",
    "   7.1 Each one independently.\n",
    "   \n",
    "   7.2 All together\n",
    "   \n",
    "   7.3 All together interactively\n",
    "8. Save the NON interactive map (6.2) as an image.\n",
    "9. Save the three reprojected maps  into one geopackage file.\n",
    "10. Get the link for the geopackage and make sure it is working well."
   ]
  }
 ],
 "metadata": {
  "anaconda-cloud": {
   "attach-environment": true,
   "summary": "test"
  },
  "hide_input": false,
  "kernelspec": {
   "display_name": "Python 3 (ipykernel)",
   "language": "python",
   "name": "python3"
  },
  "language_info": {
   "codemirror_mode": {
    "name": "ipython",
    "version": 3
   },
   "file_extension": ".py",
   "mimetype": "text/x-python",
   "name": "python",
   "nbconvert_exporter": "python",
   "pygments_lexer": "ipython3",
   "version": "3.11.4"
  },
  "toc-autonumbering": false
 },
 "nbformat": 4,
 "nbformat_minor": 4
}
